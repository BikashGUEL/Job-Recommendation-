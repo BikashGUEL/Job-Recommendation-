{
 "cells": [
  {
   "cell_type": "code",
   "execution_count": 17,
   "metadata": {},
   "outputs": [
    {
     "name": "stderr",
     "output_type": "stream",
     "text": [
      "[nltk_data] Downloading package stopwords to\n",
      "[nltk_data]     /Users/bikash/nltk_data...\n",
      "[nltk_data]   Package stopwords is already up-to-date!\n",
      "[nltk_data] Downloading package wordnet to /Users/bikash/nltk_data...\n",
      "[nltk_data]   Package wordnet is already up-to-date!\n"
     ]
    }
   ],
   "source": [
    "\n",
    "import pandas as pd\n",
    "import numpy as np\n",
    "from textblob import TextBlob\n",
    "import re\n",
    "import nltk\n",
    "from nltk.corpus import stopwords\n",
    "nltk.download('stopwords')\n",
    "from nltk.stem import PorterStemmer\n",
    "from nltk.stem import WordNetLemmatizer\n",
    "nltk.download('wordnet')\n",
    "from sklearn.metrics.pairwise import cosine_similarity\n",
    "from sklearn.feature_extraction.text import TfidfVectorizer\n"
   ]
  },
  {
   "cell_type": "code",
   "execution_count": 20,
   "metadata": {},
   "outputs": [
    {
     "name": "stdout",
     "output_type": "stream",
     "text": [
      "Recommendation without sentiment analysis:\n",
      "                                             title     score\n",
      "20042             Digital Banking Strategy Manager  0.304980\n",
      "23578            SENIOR CORPORATE BANKING DIRECTOR  0.294060\n",
      "23668                             Universal Banker  0.283753\n",
      "14613  AVP Banking Center Manager (Branch Manager)  0.282938\n",
      "\n",
      "Recommendation with sentiment analysis:\n",
      "                                                   title     score  \\\n",
      "24550  HOA Banking Team Leads, Relationship Managers,...  0.072118   \n",
      "14469  Cons Bnkng Relationship Spec (Relationship Ban...  0.068209   \n",
      "29809                 Client Service Specialist (Teller)  0.065063   \n",
      "32893                          Data Analytics Consultant  0.062568   \n",
      "\n",
      "       sentiment_score  \n",
      "24550         0.288038  \n",
      "14469         0.249122  \n",
      "29809         0.239591  \n",
      "32893         0.357143  \n"
     ]
    }
   ],
   "source": [
    "student_data = pd.read_csv('pre_processed_data.csv')\n",
    "job_data = pd.read_csv('pre_processed_jobdata.csv')\n",
    "\n",
    "def model_implementation(student_id):\n",
    "\n",
    "    student_info = student_data[student_data['student_id'] == student_id]\n",
    "    student_tags = [student_info['tags'].values[0]]\n",
    "    tfidf = TfidfVectorizer(stop_words='english')\n",
    "    job_vector = tfidf.fit_transform(job_data['job_tags'])\n",
    "    student_vector = tfidf.transform(student_tags)\n",
    "\n",
    "    cosine_similarity_score = cosine_similarity(student_vector, job_vector)\n",
    "\n",
    "    top_indices = cosine_similarity_score[0].argsort()[-4:][::-1]\n",
    "    top_scores = cosine_similarity_score[0][top_indices]\n",
    "\n",
    "    sentiment_scores = [TextBlob(desc).sentiment.polarity for desc in job_data['job_tags']]\n",
    "\n",
    "    weighted_score = cosine_similarity_score[0] * sentiment_scores\n",
    "\n",
    "    top_indices_with_sentiment = weighted_score.argsort()[-4:][::-1]\n",
    "    top_scores_with_sentiment = weighted_score[top_indices_with_sentiment]\n",
    "\n",
    "    recommended_jobs = job_data['title'].iloc[top_indices]\n",
    "    recommended_jobs = pd.DataFrame({\n",
    "        'title': job_data['title'].iloc[top_indices],\n",
    "        'score': top_scores\n",
    "    })\n",
    "\n",
    "    recommended_jobs_with_sentiment = pd.DataFrame({\n",
    "        'title': job_data['title'].iloc[top_indices_with_sentiment],\n",
    "        'score': top_scores_with_sentiment,\n",
    "        'sentiment_score': [sentiment_scores[i] for i in top_indices_with_sentiment]\n",
    "    })\n",
    "    return recommended_jobs, recommended_jobs_with_sentiment\n",
    "\n",
    "\n",
    "\n",
    "recommended_jobs, recommended_jobs_with_sentiment = model_implementation('stu_2442')\n",
    "print(\"Recommendation without sentiment analysis:\")\n",
    "print(recommended_jobs)\n",
    "\n",
    "print(\"\\nRecommendation with sentiment analysis:\")\n",
    "print(recommended_jobs_with_sentiment)"
   ]
  }
 ],
 "metadata": {
  "kernelspec": {
   "display_name": "pythonboxenv",
   "language": "python",
   "name": "python3"
  },
  "language_info": {
   "codemirror_mode": {
    "name": "ipython",
    "version": 3
   },
   "file_extension": ".py",
   "mimetype": "text/x-python",
   "name": "python",
   "nbconvert_exporter": "python",
   "pygments_lexer": "ipython3",
   "version": "3.12.2"
  }
 },
 "nbformat": 4,
 "nbformat_minor": 2
}
