{
 "cells": [
  {
   "cell_type": "code",
   "execution_count": null,
   "metadata": {},
   "outputs": [],
   "source": [
    "\n",
    "import pandas as pd\n",
    "import numpy as np\n",
    "import re\n",
    "import nltk\n",
    "from nltk.corpus import stopwords\n",
    "nltk.download('stopwords')\n",
    "from nltk.stem import PorterStemmer\n",
    "from nltk.stem import WordNetLemmatizer\n",
    "nltk.download('wordnet')\n",
    "from sklearn.metrics.pairwise import cosine_similarity\n",
    "from sklearn.feature_extraction.text import TfidfVectorizer\n"
   ]
  },
  {
   "cell_type": "code",
   "execution_count": 15,
   "metadata": {},
   "outputs": [
    {
     "name": "stdout",
     "output_type": "stream",
     "text": [
      "                                             title     score\n",
      "20042             Digital Banking Strategy Manager  0.304980\n",
      "23578            SENIOR CORPORATE BANKING DIRECTOR  0.294060\n",
      "23668                             Universal Banker  0.283753\n",
      "14613  AVP Banking Center Manager (Branch Manager)  0.282938\n"
     ]
    }
   ],
   "source": [
    "student_data = pd.read_csv('pre_processed_data.csv')\n",
    "job_data = pd.read_csv('pre_processed_jobdata.csv')\n",
    "\n",
    "def model_implementation(student_id):\n",
    "\n",
    "    student_info = student_data[student_data['student_id'] == student_id]\n",
    "    student_tags = [student_info['tags'].values[0]]\n",
    "    tfidf = TfidfVectorizer(stop_words='english')\n",
    "    job_vector = tfidf.fit_transform(job_data['job_tags'])\n",
    "    student_vector = tfidf.transform(student_tags)\n",
    "\n",
    "    cosine_similarity_score = cosine_similarity(student_vector, job_vector)\n",
    "\n",
    "    top_indices = cosine_similarity_score[0].argsort()[-4:][::-1]\n",
    "    top_scores = cosine_similarity_score[0][top_indices]\n",
    "\n",
    "    recommended_jobs = job_data['title'].iloc[top_indices]\n",
    "    recommended_jobs = pd.DataFrame({\n",
    "        'title': job_data['title'].iloc[top_indices],\n",
    "        'score': top_scores\n",
    "    })\n",
    "    return recommended_jobs\n",
    "\n",
    "\n",
    "\n",
    "recommended_jobs = model_implementation('stu_2442')\n",
    "print(recommended_jobs)"
   ]
  }
 ],
 "metadata": {
  "kernelspec": {
   "display_name": "pythonboxenv",
   "language": "python",
   "name": "python3"
  },
  "language_info": {
   "codemirror_mode": {
    "name": "ipython",
    "version": 3
   },
   "file_extension": ".py",
   "mimetype": "text/x-python",
   "name": "python",
   "nbconvert_exporter": "python",
   "pygments_lexer": "ipython3",
   "version": "3.12.2"
  }
 },
 "nbformat": 4,
 "nbformat_minor": 2
}
